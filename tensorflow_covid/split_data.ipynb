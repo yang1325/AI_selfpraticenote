{
  "nbformat": 4,
  "nbformat_minor": 0,
  "metadata": {
    "colab": {
      "name": "split_data",
      "provenance": [],
      "authorship_tag": "ABX9TyPZDhDuWONJxMamhkxZz1JA",
      "include_colab_link": true
    },
    "kernelspec": {
      "name": "python3",
      "display_name": "Python 3"
    },
    "language_info": {
      "name": "python"
    }
  },
  "cells": [
    {
      "cell_type": "markdown",
      "metadata": {
        "id": "view-in-github",
        "colab_type": "text"
      },
      "source": [
        "<a href=\"https://colab.research.google.com/github/yang1325/AI_selfpraticenote/blob/main/tensorflow_covid/split_data.ipynb\" target=\"_parent\"><img src=\"https://colab.research.google.com/assets/colab-badge.svg\" alt=\"Open In Colab\"/></a>"
      ]
    },
    {
      "cell_type": "code",
      "execution_count": null,
      "metadata": {
        "id": "kDFFoBjSheBo"
      },
      "outputs": [],
      "source": [
        "import cv2\n",
        "import tensorflow as tf\n",
        "from tensorflow.keras import layers, models\n",
        "from tensorflow import keras\n",
        "import numpy as np\n",
        "import pandas as pd\n",
        "from numpy import load\n",
        "from numpy import save\n",
        "import random\n",
        "import os\n",
        "import gc"
      ]
    },
    {
      "cell_type": "code",
      "source": [
        "#事先將資料上傳到google drive 然後用google colab 連接\n",
        "from google.colab import drive\n",
        "drive.mount(\"/content/gdrive\")"
      ],
      "metadata": {
        "colab": {
          "base_uri": "https://localhost:8080/"
        },
        "id": "kNa_VtQ7hnNN",
        "outputId": "a700ef42-3f14-4fbc-e4c2-4a756675b160"
      },
      "execution_count": null,
      "outputs": [
        {
          "output_type": "stream",
          "name": "stdout",
          "text": [
            "Mounted at /content/gdrive\n"
          ]
        }
      ]
    },
    {
      "cell_type": "code",
      "source": [
        "save_path = \"/content/gdrive/My Drive/splited_data\"\n",
        "data_path = \"/content/gdrive/My Drive/Covid_data\""
      ],
      "metadata": {
        "id": "CKwopXYYhppD"
      },
      "execution_count": null,
      "outputs": []
    },
    {
      "cell_type": "code",
      "execution_count": null,
      "metadata": {
        "colab": {
          "base_uri": "https://localhost:8080/"
        },
        "id": "1wOgX9gslsQ8",
        "outputId": "a38853d4-bd3d-4d78-a651-2099013dbb60"
      },
      "outputs": [
        {
          "output_type": "execute_result",
          "data": {
            "text/plain": [
              "['Normal', 'Viral Pneumonia', 'COVID', 'Lung_Opacity']"
            ]
          },
          "metadata": {},
          "execution_count": 8
        }
      ],
      "source": [
        "labels = ['Normal', 'Viral Pneumonia', 'COVID', 'Lung_Opacity']\n",
        "labels"
      ]
    },
    {
      "cell_type": "code",
      "source": [
        "#讀取所有圖片的路徑\n",
        "import cv2\n",
        "import numpy as np\n",
        "number = [0]\n",
        "tem = 0\n",
        "for i in range(len(labels)):\n",
        "  path = data_path + \"//\" + labels[i]\n",
        "  tem = tem + len(os.listdir(path))\n",
        "  number += [len(os.listdir(path))]\n",
        "print(number)\n",
        "n = tem\n",
        "y = np.zeros((tem,len(labels)),dtype = int)\n",
        "tem = 0\n",
        "pics = []\n",
        "for i in range(len(labels)):\n",
        "  print(labels[i])\n",
        "  path = data_path + \"//\" + labels[i]\n",
        "  os.chdir(path)\n",
        "  pic_list = os.listdir(path)\n",
        "  tem += number[i]\n",
        "  for j in range(len(pic_list)):\n",
        "    y[tem + j,i] = 1\n",
        "    pic_list[j] = path + \"//\" + pic_list[j]\n",
        "  pics += pic_list"
      ],
      "metadata": {
        "colab": {
          "base_uri": "https://localhost:8080/"
        },
        "id": "GEISX8bRjb_g",
        "outputId": "1302c2c5-3a45-4ca7-f4b4-d3393ad1e742"
      },
      "execution_count": null,
      "outputs": [
        {
          "output_type": "stream",
          "name": "stdout",
          "text": [
            "[0, 10192, 1345, 3616, 6012]\n",
            "Normal\n",
            "Viral Pneumonia\n",
            "COVID\n",
            "Lung_Opacity\n"
          ]
        }
      ]
    },
    {
      "cell_type": "code",
      "source": [
        "gc.collect()\n",
        "n = sum(number)\n",
        "random_index = np.array(random.sample(range(0,n),n))\n",
        "pics = np.array(pics)[random_index]\n",
        "y = y[random_index,:]\n",
        "gc.collect()"
      ],
      "metadata": {
        "colab": {
          "base_uri": "https://localhost:8080/"
        },
        "id": "90nNXO9rs8uA",
        "outputId": "823bbffa-13c2-457f-b44d-82de2d6f490f"
      },
      "execution_count": null,
      "outputs": [
        {
          "output_type": "execute_result",
          "data": {
            "text/plain": [
              "0"
            ]
          },
          "metadata": {},
          "execution_count": 21
        }
      ]
    },
    {
      "cell_type": "code",
      "source": [
        "os.chdir(save_path)\n",
        "splits = 10\n",
        "for i in range(1):\n",
        "  data = np.zeros((int(n/splits),299,299))\n",
        "  os.chdir(data_path)\n",
        "  tem += number[i]\n",
        "  for j in range(int(n/splits) * i,int(n/splits )* (i + 1)):\n",
        "    data[int(n/splits) * i + j,:,:] = cv2.imread(pics[j], cv2.IMREAD_GRAYSCALE)/255.0"
      ],
      "metadata": {
        "id": "GNVklkxcvREb"
      },
      "execution_count": null,
      "outputs": []
    },
    {
      "cell_type": "code",
      "source": [
        "save(save_path + \"//\" + \"0.npy\", data)"
      ],
      "metadata": {
        "id": "3ThZxi-10cRE"
      },
      "execution_count": null,
      "outputs": []
    },
    {
      "cell_type": "code",
      "source": [
        "os.chdir(save_path)\n",
        "load(\"0.npy\")"
      ],
      "metadata": {
        "colab": {
          "base_uri": "https://localhost:8080/"
        },
        "id": "weba-Rt43J4R",
        "outputId": "d5a88079-7dd7-4ce5-fbce-6d741674d7b2"
      },
      "execution_count": null,
      "outputs": [
        {
          "output_type": "execute_result",
          "data": {
            "text/plain": [
              "array([[[0.07058824, 0.22352941, 0.34901961, ..., 0.08235294,\n",
              "         0.07058824, 0.06666667],\n",
              "        [0.11764706, 0.31372549, 0.3372549 , ..., 0.08627451,\n",
              "         0.0745098 , 0.07058824],\n",
              "        [0.2       , 0.34509804, 0.36862745, ..., 0.09019608,\n",
              "         0.07843137, 0.07058824],\n",
              "        ...,\n",
              "        [0.02352941, 0.03137255, 0.02745098, ..., 0.        ,\n",
              "         0.        , 0.        ],\n",
              "        [0.02352941, 0.02745098, 0.02352941, ..., 0.        ,\n",
              "         0.        , 0.        ],\n",
              "        [0.02352941, 0.02745098, 0.01960784, ..., 0.        ,\n",
              "         0.        , 0.        ]],\n",
              "\n",
              "       [[0.15686275, 0.04705882, 0.00392157, ..., 0.31372549,\n",
              "         0.3254902 , 0.29019608],\n",
              "        [0.03529412, 0.00784314, 0.        , ..., 0.25882353,\n",
              "         0.2745098 , 0.25098039],\n",
              "        [0.        , 0.        , 0.        , ..., 0.11372549,\n",
              "         0.15686275, 0.18431373],\n",
              "        ...,\n",
              "        [0.47843137, 0.45882353, 0.45882353, ..., 0.88235294,\n",
              "         0.90588235, 0.87058824],\n",
              "        [0.5254902 , 0.51372549, 0.50980392, ..., 0.88627451,\n",
              "         0.90980392, 0.86666667],\n",
              "        [0.56862745, 0.56078431, 0.56862745, ..., 0.89019608,\n",
              "         0.90980392, 0.86666667]],\n",
              "\n",
              "       [[0.01176471, 0.01568627, 0.01176471, ..., 0.01568627,\n",
              "         0.01960784, 0.01568627],\n",
              "        [0.01176471, 0.01568627, 0.01568627, ..., 0.01568627,\n",
              "         0.01960784, 0.01960784],\n",
              "        [0.01176471, 0.01568627, 0.01568627, ..., 0.01568627,\n",
              "         0.01960784, 0.01568627],\n",
              "        ...,\n",
              "        [0.19607843, 0.2       , 0.17647059, ..., 0.01176471,\n",
              "         0.01176471, 0.01176471],\n",
              "        [0.2       , 0.2       , 0.18431373, ..., 0.01176471,\n",
              "         0.01176471, 0.01176471],\n",
              "        [0.17647059, 0.17254902, 0.16078431, ..., 0.00784314,\n",
              "         0.01176471, 0.00784314]],\n",
              "\n",
              "       ...,\n",
              "\n",
              "       [[0.05098039, 0.24313725, 0.24313725, ..., 0.08235294,\n",
              "         0.07843137, 0.07843137],\n",
              "        [0.02745098, 0.05098039, 0.04313725, ..., 0.07843137,\n",
              "         0.0745098 , 0.06666667],\n",
              "        [0.00784314, 0.        , 0.        , ..., 0.0627451 ,\n",
              "         0.04313725, 0.02352941],\n",
              "        ...,\n",
              "        [0.01568627, 0.00784314, 0.        , ..., 0.        ,\n",
              "         0.        , 0.        ],\n",
              "        [0.11372549, 0.01960784, 0.        , ..., 0.        ,\n",
              "         0.        , 0.        ],\n",
              "        [0.32941176, 0.05490196, 0.        , ..., 0.        ,\n",
              "         0.        , 0.        ]],\n",
              "\n",
              "       [[0.        , 0.        , 0.        , ..., 0.        ,\n",
              "         0.        , 0.        ],\n",
              "        [0.        , 0.        , 0.        , ..., 0.        ,\n",
              "         0.        , 0.        ],\n",
              "        [0.        , 0.        , 0.        , ..., 0.        ,\n",
              "         0.        , 0.        ],\n",
              "        ...,\n",
              "        [0.        , 0.        , 0.        , ..., 0.        ,\n",
              "         0.        , 0.        ],\n",
              "        [0.        , 0.        , 0.        , ..., 0.        ,\n",
              "         0.        , 0.        ],\n",
              "        [0.        , 0.        , 0.        , ..., 0.        ,\n",
              "         0.        , 0.        ]],\n",
              "\n",
              "       [[0.        , 0.        , 0.        , ..., 0.        ,\n",
              "         0.00784314, 0.02352941],\n",
              "        [0.        , 0.        , 0.        , ..., 0.        ,\n",
              "         0.00784314, 0.01960784],\n",
              "        [0.        , 0.        , 0.        , ..., 0.        ,\n",
              "         0.00392157, 0.01568627],\n",
              "        ...,\n",
              "        [0.        , 0.        , 0.        , ..., 0.        ,\n",
              "         0.00392157, 0.01176471],\n",
              "        [0.        , 0.        , 0.        , ..., 0.00392157,\n",
              "         0.01568627, 0.02352941],\n",
              "        [0.        , 0.        , 0.        , ..., 0.00784314,\n",
              "         0.02745098, 0.03921569]]])"
            ]
          },
          "metadata": {},
          "execution_count": 28
        }
      ]
    }
  ]
}