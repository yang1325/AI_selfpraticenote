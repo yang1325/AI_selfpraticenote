{
  "nbformat": 4,
  "nbformat_minor": 0,
  "metadata": {
    "colab": {
      "name": "tensorflow_Coviddata_splitpic.ipynb",
      "provenance": [],
      "authorship_tag": "ABX9TyObjdCPII1Vc3mjLXQyN4Re",
      "include_colab_link": true
    },
    "kernelspec": {
      "name": "python3",
      "display_name": "Python 3"
    },
    "language_info": {
      "name": "python"
    },
    "gpuClass": "standard"
  },
  "cells": [
    {
      "cell_type": "markdown",
      "metadata": {
        "id": "view-in-github",
        "colab_type": "text"
      },
      "source": [
        "<a href=\"https://colab.research.google.com/github/yang1325/AI_selfpraticenote/blob/main/tensorflow_covid/tensorflow_Coviddata_splitpic.ipynb\" target=\"_parent\"><img src=\"https://colab.research.google.com/assets/colab-badge.svg\" alt=\"Open In Colab\"/></a>"
      ]
    },
    {
      "cell_type": "code",
      "execution_count": null,
      "metadata": {
        "id": "I6XPnonK5OKr"
      },
      "outputs": [],
      "source": [
        "import cv2\n",
        "import tensorflow as tf\n",
        "from tensorflow.keras import layers, models\n",
        "from tensorflow import keras\n",
        "import numpy as np\n",
        "import pandas as pd\n",
        "from numpy import load\n",
        "from numpy import save\n",
        "import random\n",
        "import os\n",
        "import gc"
      ]
    },
    {
      "cell_type": "code",
      "source": [
        "from google.colab import drive\n",
        "drive.mount(\"/content/gdrive\")"
      ],
      "metadata": {
        "colab": {
          "base_uri": "https://localhost:8080/"
        },
        "id": "HSdL5U0z5XQj",
        "outputId": "f7caa8c7-d95d-48fb-e238-d81f9a7ede36"
      },
      "execution_count": null,
      "outputs": [
        {
          "output_type": "stream",
          "name": "stdout",
          "text": [
            "Mounted at /content/gdrive\n"
          ]
        }
      ]
    },
    {
      "cell_type": "code",
      "source": [
        "save_path = \"/content/gdrive/My Drive/splited_data\"\n",
        "data_path = \"/content/gdrive/My Drive/Covid_data\""
      ],
      "metadata": {
        "id": "CKwopXYYhppD"
      },
      "execution_count": null,
      "outputs": []
    },
    {
      "cell_type": "code",
      "execution_count": null,
      "metadata": {
        "colab": {
          "base_uri": "https://localhost:8080/"
        },
        "id": "1wOgX9gslsQ8",
        "outputId": "e94e68df-4eb8-4ede-c67a-c4d8e51fb153"
      },
      "outputs": [
        {
          "output_type": "execute_result",
          "data": {
            "text/plain": [
              "['Normal', 'Viral Pneumonia', 'COVID', 'Lung_Opacity']"
            ]
          },
          "metadata": {},
          "execution_count": 4
        }
      ],
      "source": [
        "labels = ['Normal', 'Viral Pneumonia', 'COVID', 'Lung_Opacity']\n",
        "labels"
      ]
    },
    {
      "cell_type": "code",
      "source": [
        "#讀取所有圖片的路徑\n",
        "import cv2\n",
        "import numpy as np\n",
        "number = [0]\n",
        "tem = 0\n",
        "for i in range(len(labels)):\n",
        "  path = data_path + \"//\" + labels[i]\n",
        "  tem = tem + len(os.listdir(path))\n",
        "  number += [len(os.listdir(path))]\n",
        "print(number)\n",
        "n = tem\n",
        "y = np.zeros((tem,len(labels)),dtype = int)\n",
        "tem = 0\n",
        "pics = []\n",
        "for i in range(len(labels)):\n",
        "  print(labels[i])\n",
        "  path = data_path + \"//\" + labels[i]\n",
        "  os.chdir(path)\n",
        "  pic_list = os.listdir(path)\n",
        "  tem += number[i]\n",
        "  for j in range(len(pic_list)):\n",
        "    y[tem + j,i] = 1\n",
        "    pic_list[j] = path + \"//\" + pic_list[j]\n",
        "  pics += pic_list"
      ],
      "metadata": {
        "colab": {
          "base_uri": "https://localhost:8080/"
        },
        "id": "GEISX8bRjb_g",
        "outputId": "3762bd67-8668-4dcd-d1e8-5d407b7fbb23"
      },
      "execution_count": null,
      "outputs": [
        {
          "output_type": "stream",
          "name": "stdout",
          "text": [
            "[0, 10192, 1345, 3616, 6012]\n",
            "Normal\n",
            "Viral Pneumonia\n",
            "COVID\n",
            "Lung_Opacity\n"
          ]
        }
      ]
    },
    {
      "cell_type": "code",
      "source": [
        "gc.collect()\n",
        "n = sum(number)\n",
        "random_index = np.array(random.sample(range(0,n),n))\n",
        "pics = np.array(pics)[random_index]\n",
        "y = y[random_index,:]\n",
        "gc.collect()"
      ],
      "metadata": {
        "colab": {
          "base_uri": "https://localhost:8080/"
        },
        "id": "90nNXO9rs8uA",
        "outputId": "a84b5778-e4e7-4d10-fef6-e20849e03d7f"
      },
      "execution_count": null,
      "outputs": [
        {
          "output_type": "execute_result",
          "data": {
            "text/plain": [
              "0"
            ]
          },
          "metadata": {},
          "execution_count": 6
        }
      ]
    },
    {
      "cell_type": "code",
      "source": [
        "splits = 100\n",
        "for i in range(splits - 1):\n",
        "  print(i)\n",
        "  data = np.zeros((int(n/splits),299,299))\n",
        "  os.chdir(data_path)\n",
        "  for j in range(int(n/splits)):\n",
        "    data[j,:,:] = cv2.imread(pics[int(n/splits) * i + j],cv2.IMREAD_GRAYSCALE)\n",
        "  save(save_path + \"//\" + \"%d.npy\"%(i), data)\n",
        "  save(save_path + \"//\" + \"%dy.npy\"%(i), y[int(n/splits) * i:int(n/splits )* (i + 1)])\n",
        "  del data\n",
        "  gc.collect()\n",
        "print(\"last\")\n",
        "data = np.zeros((n - (splits - 1) * int(n/splits),299,299))\n",
        "os.chdir(data_path)\n",
        "for j in range(n - (splits - 1) * int(n/splits)):\n",
        "  data[j,:,:] = cv2.imread(pics[int(n/splits) * (splits - 1) + j],cv2.IMREAD_GRAYSCALE)\n",
        "save(save_path + \"//\" + \"%d.npy\"%(splits - 1), data)\n",
        "save(save_path + \"//\" + \"%dy.npy\"%(splits - 1), y[int(n/splits) * (splits - 1):n])\n",
        "del data\n",
        "gc.collect()\n",
        "save(save_path + \"//\" + \"y.npy\", y)"
      ],
      "metadata": {
        "id": "GNVklkxcvREb",
        "colab": {
          "base_uri": "https://localhost:8080/"
        },
        "outputId": "557a94e0-caba-4484-8145-0d070332283b"
      },
      "execution_count": null,
      "outputs": [
        {
          "output_type": "stream",
          "name": "stdout",
          "text": [
            "0\n",
            "1\n",
            "2\n",
            "3\n",
            "4\n",
            "5\n",
            "6\n",
            "7\n",
            "8\n",
            "9\n",
            "10\n",
            "11\n",
            "12\n",
            "13\n",
            "14\n",
            "15\n",
            "16\n",
            "17\n",
            "18\n",
            "19\n",
            "20\n",
            "21\n",
            "22\n",
            "23\n",
            "24\n",
            "25\n",
            "26\n",
            "27\n",
            "28\n",
            "29\n",
            "30\n",
            "31\n",
            "32\n",
            "33\n",
            "34\n",
            "35\n",
            "36\n",
            "37\n",
            "38\n",
            "39\n",
            "40\n",
            "41\n",
            "42\n",
            "43\n",
            "44\n",
            "45\n",
            "46\n",
            "47\n",
            "48\n",
            "49\n",
            "50\n",
            "51\n",
            "52\n",
            "53\n",
            "54\n",
            "55\n",
            "56\n",
            "57\n",
            "58\n",
            "59\n",
            "60\n",
            "61\n",
            "62\n",
            "63\n",
            "64\n",
            "65\n",
            "66\n",
            "67\n",
            "68\n",
            "69\n",
            "70\n",
            "71\n",
            "72\n",
            "73\n",
            "74\n",
            "75\n",
            "76\n",
            "77\n",
            "78\n",
            "79\n",
            "80\n",
            "81\n",
            "82\n",
            "83\n",
            "84\n",
            "85\n",
            "86\n",
            "87\n",
            "88\n",
            "89\n",
            "90\n",
            "91\n",
            "92\n",
            "93\n",
            "94\n",
            "95\n",
            "96\n",
            "97\n",
            "98\n",
            "last\n"
          ]
        }
      ]
    },
    {
      "cell_type": "code",
      "source": [
        "os.chdir(save_path)\n",
        "for i in range(splits):\n",
        "  n = load(\"%d.npy\"%(i))\n",
        "  y = load(\"%dy.npy\"%(i))\n",
        "  print(np.shape(n),np.shape(y),i)\n",
        "  gc.collect()"
      ],
      "metadata": {
        "id": "weba-Rt43J4R",
        "colab": {
          "base_uri": "https://localhost:8080/"
        },
        "outputId": "ee392ac5-6b0a-4afa-e529-093350b0c2ae"
      },
      "execution_count": null,
      "outputs": [
        {
          "output_type": "stream",
          "name": "stdout",
          "text": [
            "(211, 299, 299) (211, 4) 0\n",
            "(211, 299, 299) (211, 4) 1\n",
            "(211, 299, 299) (211, 4) 2\n",
            "(211, 299, 299) (211, 4) 3\n",
            "(211, 299, 299) (211, 4) 4\n",
            "(211, 299, 299) (211, 4) 5\n",
            "(211, 299, 299) (211, 4) 6\n",
            "(211, 299, 299) (211, 4) 7\n",
            "(211, 299, 299) (211, 4) 8\n",
            "(211, 299, 299) (211, 4) 9\n",
            "(211, 299, 299) (211, 4) 10\n",
            "(211, 299, 299) (211, 4) 11\n",
            "(211, 299, 299) (211, 4) 12\n",
            "(211, 299, 299) (211, 4) 13\n",
            "(211, 299, 299) (211, 4) 14\n",
            "(211, 299, 299) (211, 4) 15\n",
            "(211, 299, 299) (211, 4) 16\n",
            "(211, 299, 299) (211, 4) 17\n",
            "(211, 299, 299) (211, 4) 18\n",
            "(211, 299, 299) (211, 4) 19\n",
            "(211, 299, 299) (211, 4) 20\n",
            "(211, 299, 299) (211, 4) 21\n",
            "(211, 299, 299) (211, 4) 22\n",
            "(211, 299, 299) (211, 4) 23\n",
            "(211, 299, 299) (211, 4) 24\n",
            "(211, 299, 299) (211, 4) 25\n",
            "(211, 299, 299) (211, 4) 26\n",
            "(211, 299, 299) (211, 4) 27\n",
            "(211, 299, 299) (211, 4) 28\n",
            "(211, 299, 299) (211, 4) 29\n",
            "(211, 299, 299) (211, 4) 30\n",
            "(211, 299, 299) (211, 4) 31\n",
            "(211, 299, 299) (211, 4) 32\n",
            "(211, 299, 299) (211, 4) 33\n",
            "(211, 299, 299) (211, 4) 34\n",
            "(211, 299, 299) (211, 4) 35\n",
            "(211, 299, 299) (211, 4) 36\n",
            "(211, 299, 299) (211, 4) 37\n",
            "(211, 299, 299) (211, 4) 38\n",
            "(211, 299, 299) (211, 4) 39\n",
            "(211, 299, 299) (211, 4) 40\n",
            "(211, 299, 299) (211, 4) 41\n",
            "(211, 299, 299) (211, 4) 42\n",
            "(211, 299, 299) (211, 4) 43\n",
            "(211, 299, 299) (211, 4) 44\n",
            "(211, 299, 299) (211, 4) 45\n",
            "(211, 299, 299) (211, 4) 46\n",
            "(211, 299, 299) (211, 4) 47\n",
            "(211, 299, 299) (211, 4) 48\n",
            "(211, 299, 299) (211, 4) 49\n",
            "(211, 299, 299) (211, 4) 50\n",
            "(211, 299, 299) (211, 4) 51\n",
            "(211, 299, 299) (211, 4) 52\n",
            "(211, 299, 299) (211, 4) 53\n",
            "(211, 299, 299) (211, 4) 54\n",
            "(211, 299, 299) (211, 4) 55\n",
            "(211, 299, 299) (211, 4) 56\n",
            "(211, 299, 299) (211, 4) 57\n",
            "(211, 299, 299) (211, 4) 58\n",
            "(211, 299, 299) (211, 4) 59\n",
            "(211, 299, 299) (211, 4) 60\n",
            "(211, 299, 299) (211, 4) 61\n",
            "(211, 299, 299) (211, 4) 62\n",
            "(211, 299, 299) (211, 4) 63\n",
            "(211, 299, 299) (211, 4) 64\n",
            "(211, 299, 299) (211, 4) 65\n",
            "(211, 299, 299) (211, 4) 66\n",
            "(211, 299, 299) (211, 4) 67\n",
            "(211, 299, 299) (211, 4) 68\n",
            "(211, 299, 299) (211, 4) 69\n",
            "(211, 299, 299) (211, 4) 70\n",
            "(211, 299, 299) (211, 4) 71\n",
            "(211, 299, 299) (211, 4) 72\n",
            "(211, 299, 299) (211, 4) 73\n",
            "(211, 299, 299) (211, 4) 74\n",
            "(211, 299, 299) (211, 4) 75\n",
            "(211, 299, 299) (211, 4) 76\n",
            "(211, 299, 299) (211, 4) 77\n",
            "(211, 299, 299) (211, 4) 78\n",
            "(211, 299, 299) (211, 4) 79\n",
            "(211, 299, 299) (211, 4) 80\n",
            "(211, 299, 299) (211, 4) 81\n",
            "(211, 299, 299) (211, 4) 82\n",
            "(211, 299, 299) (211, 4) 83\n",
            "(211, 299, 299) (211, 4) 84\n",
            "(211, 299, 299) (211, 4) 85\n",
            "(211, 299, 299) (211, 4) 86\n",
            "(211, 299, 299) (211, 4) 87\n",
            "(211, 299, 299) (211, 4) 88\n",
            "(211, 299, 299) (211, 4) 89\n",
            "(211, 299, 299) (211, 4) 90\n",
            "(211, 299, 299) (211, 4) 91\n",
            "(211, 299, 299) (211, 4) 92\n",
            "(211, 299, 299) (211, 4) 93\n",
            "(211, 299, 299) (211, 4) 94\n",
            "(211, 299, 299) (211, 4) 95\n",
            "(211, 299, 299) (211, 4) 96\n",
            "(211, 299, 299) (211, 4) 97\n",
            "(211, 299, 299) (211, 4) 98\n",
            "(276, 299, 299) (276, 4) 99\n"
          ]
        }
      ]
    }
  ]
}