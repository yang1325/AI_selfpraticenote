{
  "nbformat": 4,
  "nbformat_minor": 0,
  "metadata": {
    "colab": {
      "name": "tensorflow_Coviddata_splitpic.ipynb",
      "provenance": [],
      "authorship_tag": "ABX9TyOm5W3cif7T9duzCbsPnnVv",
      "include_colab_link": true
    },
    "kernelspec": {
      "name": "python3",
      "display_name": "Python 3"
    },
    "language_info": {
      "name": "python"
    }
  },
  "cells": [
    {
      "cell_type": "markdown",
      "metadata": {
        "id": "view-in-github",
        "colab_type": "text"
      },
      "source": [
        "<a href=\"https://colab.research.google.com/github/yang1325/AI_selfpraticenote/blob/main/tensorflow_covid/tensorflow_Coviddata_splitpic.ipynb\" target=\"_parent\"><img src=\"https://colab.research.google.com/assets/colab-badge.svg\" alt=\"Open In Colab\"/></a>"
      ]
    },
    {
      "cell_type": "code",
      "execution_count": null,
      "metadata": {
        "id": "I6XPnonK5OKr"
      },
      "outputs": [],
      "source": [
        "import cv2\n",
        "import tensorflow as tf\n",
        "from tensorflow.keras import layers, models\n",
        "from tensorflow import keras\n",
        "import numpy as np\n",
        "import pandas as pd\n",
        "from numpy import load\n",
        "from numpy import save\n",
        "import random\n",
        "import os\n",
        "import gc"
      ]
    },
    {
      "cell_type": "code",
      "source": [
        "from google.colab import drive\n",
        "drive.mount(\"/content/gdrive\")"
      ],
      "metadata": {
        "colab": {
          "base_uri": "https://localhost:8080/"
        },
        "id": "HSdL5U0z5XQj",
        "outputId": "d3e06aa5-1be3-4193-9aa0-0891871ccc88"
      },
      "execution_count": null,
      "outputs": [
        {
          "output_type": "stream",
          "name": "stdout",
          "text": [
            "Mounted at /content/gdrive\n"
          ]
        }
      ]
    },
    {
      "cell_type": "code",
      "source": [
        "save_path = \"/content/gdrive/My Drive/splited_data\"\n",
        "data_path = \"/content/gdrive/My Drive/Covid_data\""
      ],
      "metadata": {
        "id": "CKwopXYYhppD"
      },
      "execution_count": null,
      "outputs": []
    },
    {
      "cell_type": "code",
      "execution_count": null,
      "metadata": {
        "colab": {
          "base_uri": "https://localhost:8080/"
        },
        "id": "1wOgX9gslsQ8",
        "outputId": "7bb6b71e-6fcd-42b1-8198-6bcbcd09b875"
      },
      "outputs": [
        {
          "output_type": "execute_result",
          "data": {
            "text/plain": [
              "['Normal', 'Viral Pneumonia', 'COVID', 'Lung_Opacity']"
            ]
          },
          "metadata": {},
          "execution_count": 4
        }
      ],
      "source": [
        "labels = ['Normal', 'Viral Pneumonia', 'COVID', 'Lung_Opacity']\n",
        "labels"
      ]
    },
    {
      "cell_type": "code",
      "source": [
        "#讀取所有圖片的路徑\n",
        "import cv2\n",
        "import numpy as np\n",
        "number = [0]\n",
        "tem = 0\n",
        "for i in range(len(labels)):\n",
        "  path = data_path + \"//\" + labels[i]\n",
        "  tem = tem + len(os.listdir(path))\n",
        "  number += [len(os.listdir(path))]\n",
        "print(number)\n",
        "n = tem\n",
        "y = np.zeros((tem,len(labels)),dtype = int)\n",
        "tem = 0\n",
        "pics = []\n",
        "for i in range(len(labels)):\n",
        "  print(labels[i])\n",
        "  path = data_path + \"//\" + labels[i]\n",
        "  os.chdir(path)\n",
        "  pic_list = os.listdir(path)\n",
        "  tem += number[i]\n",
        "  for j in range(len(pic_list)):\n",
        "    y[tem + j,i] = 1\n",
        "    pic_list[j] = path + \"//\" + pic_list[j]\n",
        "  pics += pic_list"
      ],
      "metadata": {
        "colab": {
          "base_uri": "https://localhost:8080/"
        },
        "id": "GEISX8bRjb_g",
        "outputId": "6dc50e20-2942-4b22-c57a-3c4011c480c8"
      },
      "execution_count": null,
      "outputs": [
        {
          "output_type": "stream",
          "name": "stdout",
          "text": [
            "[0, 10192, 1345, 3616, 6012]\n",
            "Normal\n",
            "Viral Pneumonia\n",
            "COVID\n",
            "Lung_Opacity\n"
          ]
        }
      ]
    },
    {
      "cell_type": "code",
      "source": [
        "gc.collect()\n",
        "n = sum(number)\n",
        "random_index = np.array(random.sample(range(0,n),n))\n",
        "pics = np.array(pics)[random_index]\n",
        "y = y[random_index,:]\n",
        "gc.collect()"
      ],
      "metadata": {
        "colab": {
          "base_uri": "https://localhost:8080/"
        },
        "id": "90nNXO9rs8uA",
        "outputId": "fa8a9c23-630d-4cc0-b014-16969253f335"
      },
      "execution_count": null,
      "outputs": [
        {
          "output_type": "execute_result",
          "data": {
            "text/plain": [
              "0"
            ]
          },
          "metadata": {},
          "execution_count": 6
        }
      ]
    },
    {
      "cell_type": "code",
      "source": [
        "splits = 10\n",
        "for i in range(1,splits - 1):\n",
        "  print(i)\n",
        "  data = np.zeros((int(n/splits),299,299))\n",
        "  os.chdir(data_path)\n",
        "  for j in range(int(n/splits)):\n",
        "    data[j,:,:] = cv2.imread(pics[int(n/splits) * i + j], cv2.IMREAD_GRAYSCALE)/255.0\n",
        "  save(save_path + \"//\" + \"%d.npy\"%(i), data)\n",
        "  save(save_path + \"//\" + \"%dy.npy\"%(i), y[int(n/splits) * i:int(n/splits )* (i + 1)])\n",
        "  del data\n",
        "  gc.collect()\n",
        "print(\"last\")\n",
        "data = np.zeros((n - (splits - 1) * int(n/splits),299,299))\n",
        "os.chdir(data_path)\n",
        "for j in range(n - (splits - 1) * int(n/splits)):\n",
        "  data[j,:,:] = cv2.imread(pics[int(n/splits) * (splits - 1) + j], cv2.IMREAD_GRAYSCALE)/255.0\n",
        "save(save_path + \"//\" + \"%d.npy\"%(splits - 1), data)\n",
        "save(save_path + \"//\" + \"%dy.npy\"%(splits - 1), y[int(n/splits) * (splits - 1):n])\n",
        "del data\n",
        "gc.collect()\n",
        "save(save_path + \"//\" + \"y.npy\", y)"
      ],
      "metadata": {
        "id": "GNVklkxcvREb",
        "colab": {
          "base_uri": "https://localhost:8080/"
        },
        "outputId": "27edb1cc-26a5-4cb8-a0b3-11ee4183ba52"
      },
      "execution_count": null,
      "outputs": [
        {
          "output_type": "stream",
          "name": "stdout",
          "text": [
            "1\n",
            "2\n",
            "3\n",
            "4\n",
            "5\n",
            "6\n",
            "7\n",
            "8\n",
            "last\n"
          ]
        }
      ]
    },
    {
      "cell_type": "code",
      "source": [
        "os.chdir(save_path)\n",
        "for i in range(10):\n",
        "  n = load(\"%d.npy\"%(i))\n",
        "  y = load(\"%dy.npy\"%(i))\n",
        "  print(np.shape(n),np.shape(y),i)\n",
        "  gc.collect()"
      ],
      "metadata": {
        "colab": {
          "base_uri": "https://localhost:8080/"
        },
        "id": "weba-Rt43J4R",
        "outputId": "57e5e17e-17ec-401f-ac39-b0f04e2f3667"
      },
      "execution_count": null,
      "outputs": [
        {
          "output_type": "stream",
          "name": "stdout",
          "text": [
            "(2116, 299, 299) (2116, 4) 0\n",
            "(2116, 299, 299) (2116, 4) 1\n",
            "(2116, 299, 299) (2116, 4) 2\n",
            "(2116, 299, 299) (2116, 4) 3\n",
            "(2116, 299, 299) (2116, 4) 4\n",
            "(2116, 299, 299) (2116, 4) 5\n",
            "(2116, 299, 299) (2116, 4) 6\n",
            "(2116, 299, 299) (2116, 4) 7\n",
            "(2116, 299, 299) (2116, 4) 8\n",
            "(2121, 299, 299) (2121, 4) 9\n"
          ]
        }
      ]
    }
  ]
}