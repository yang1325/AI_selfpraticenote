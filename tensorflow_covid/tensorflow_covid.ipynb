{
  "cells": [
    {
      "cell_type": "markdown",
      "metadata": {
        "id": "view-in-github",
        "colab_type": "text"
      },
      "source": [
        "<a href=\"https://colab.research.google.com/github/yang1325/AI_selfpraticenote/blob/main/tensorflow_covid/tensorflow_covid.ipynb\" target=\"_parent\"><img src=\"https://colab.research.google.com/assets/colab-badge.svg\" alt=\"Open In Colab\"/></a>"
      ]
    },
    {
      "cell_type": "code",
      "execution_count": 1,
      "metadata": {
        "id": "HGA8x75XoL8I"
      },
      "outputs": [],
      "source": [
        "#載入所需模組\n",
        "import cv2\n",
        "import tensorflow as tf\n",
        "from tensorflow.keras import layers, models\n",
        "from tensorflow import keras\n",
        "import numpy as np\n",
        "import pandas as pd\n",
        "from numpy import load\n",
        "from numpy import save\n",
        "import random\n",
        "import os\n",
        "import gc"
      ]
    },
    {
      "cell_type": "code",
      "execution_count": 4,
      "metadata": {
        "colab": {
          "base_uri": "https://localhost:8080/"
        },
        "id": "MaHA4XNAhlny",
        "outputId": "087b33cb-e53d-430a-8802-e869595b2a56"
      },
      "outputs": [
        {
          "output_type": "stream",
          "name": "stdout",
          "text": [
            "Drive already mounted at /content/gdrive; to attempt to forcibly remount, call drive.mount(\"/content/gdrive\", force_remount=True).\n"
          ]
        }
      ],
      "source": [
        "#事先將資料上傳到google drive 然後用google colab 連接\n",
        "from google.colab import drive\n",
        "drive.mount(\"/content/gdrive\")"
      ]
    },
    {
      "cell_type": "code",
      "execution_count": 5,
      "metadata": {
        "colab": {
          "base_uri": "https://localhost:8080/"
        },
        "id": "1wOgX9gslsQ8",
        "outputId": "caa7389b-ce82-4d79-837b-6ddda26dd0f8"
      },
      "outputs": [
        {
          "output_type": "execute_result",
          "data": {
            "text/plain": [
              "['Normal', 'Viral Pneumonia', 'COVID', 'Lung_Opacity']"
            ]
          },
          "metadata": {},
          "execution_count": 5
        }
      ],
      "source": [
        "labels = ['Normal', 'Viral Pneumonia', 'COVID', 'Lung_Opacity']\n",
        "labels"
      ]
    },
    {
      "cell_type": "code",
      "execution_count": 6,
      "metadata": {
        "colab": {
          "base_uri": "https://localhost:8080/"
        },
        "id": "NjaM85i5hMZF",
        "outputId": "d588d1f0-0643-46b2-a9d6-e2481454c050"
      },
      "outputs": [
        {
          "output_type": "stream",
          "name": "stdout",
          "text": [
            "[0, 10192, 1345, 3616, 6012]\n",
            "Normal\n",
            "Viral Pneumonia\n",
            "COVID\n",
            "Lung_Opacity\n"
          ]
        }
      ],
      "source": [
        "import cv2\n",
        "import numpy as np\n",
        "number = [0]\n",
        "tem = 0\n",
        "for i in range(len(labels)):\n",
        "  path = \"/content/gdrive/My Drive/Covid_data_merge/\" + labels[i]\n",
        "  tem = tem + len(os.listdir(path))\n",
        "  number += [len(os.listdir(path))]\n",
        "print(number)\n",
        "data = np.zeros((tem,150,150),dtype = int)\n",
        "y = np.zeros((tem,len(labels)),dtype = int)\n",
        "tem = 0\n",
        "for i in range(len(labels)):\n",
        "  print(labels[i])\n",
        "  path = \"/content/gdrive/My Drive/Covid_data_merge/\" + labels[i]\n",
        "  os.chdir(path)\n",
        "  pic_list = os.listdir(path)\n",
        "  tem += number[i]\n",
        "  for j in range(len(pic_list)):\n",
        "    y[tem + j,i] = 1\n",
        "    data[tem + j,:,:] = cv2.imread(pic_list[j], cv2.IMREAD_GRAYSCALE)"
      ]
    },
    {
      "cell_type": "code",
      "execution_count": 7,
      "metadata": {
        "colab": {
          "base_uri": "https://localhost:8080/"
        },
        "id": "OsZ1ctWvPbRT",
        "outputId": "a754b0b3-a623-4990-969d-8feff1a8d3db"
      },
      "outputs": [
        {
          "output_type": "execute_result",
          "data": {
            "text/plain": [
              "0"
            ]
          },
          "metadata": {},
          "execution_count": 7
        }
      ],
      "source": [
        "gc.collect()\n",
        "n = sum(number)\n",
        "random_index = np.array(random.sample(range(0,n),n))\n",
        "data = data[random_index,:,:]\n",
        "y = y[random_index,:]\n",
        "gc.collect()"
      ]
    },
    {
      "cell_type": "code",
      "execution_count": 8,
      "metadata": {
        "id": "xIYCgNkmPT38"
      },
      "outputs": [],
      "source": [
        "test_index = np.array(random.sample(range(0,n), int(n * 0.2)))\n",
        "train_index = np.ones(n, dtype=bool)\n",
        "train_index[test_index] = False\n",
        "test_label = y[test_index,:]\n",
        "train_label = y[train_index,:]"
      ]
    },
    {
      "cell_type": "code",
      "execution_count": 9,
      "metadata": {
        "colab": {
          "base_uri": "https://localhost:8080/"
        },
        "id": "PWn3Xkz0OUlK",
        "outputId": "72ba3e21-c3cf-44b7-c3d7-8ce99aa675a0"
      },
      "outputs": [
        {
          "output_type": "stream",
          "name": "stdout",
          "text": [
            "Model: \"sequential\"\n",
            "_________________________________________________________________\n",
            " Layer (type)                Output Shape              Param #   \n",
            "=================================================================\n",
            " conv2d (Conv2D)             (None, 149, 149, 64)      320       \n",
            "                                                                 \n",
            " max_pooling2d (MaxPooling2D  (None, 74, 74, 64)       0         \n",
            " )                                                               \n",
            "                                                                 \n",
            " conv2d_1 (Conv2D)           (None, 73, 73, 128)       32896     \n",
            "                                                                 \n",
            " max_pooling2d_1 (MaxPooling  (None, 36, 36, 128)      0         \n",
            " 2D)                                                             \n",
            "                                                                 \n",
            " conv2d_2 (Conv2D)           (None, 35, 35, 256)       131328    \n",
            "                                                                 \n",
            " max_pooling2d_2 (MaxPooling  (None, 17, 17, 256)      0         \n",
            " 2D)                                                             \n",
            "                                                                 \n",
            " conv2d_3 (Conv2D)           (None, 16, 16, 512)       524800    \n",
            "                                                                 \n",
            " max_pooling2d_3 (MaxPooling  (None, 8, 8, 512)        0         \n",
            " 2D)                                                             \n",
            "                                                                 \n",
            " conv2d_4 (Conv2D)           (None, 7, 7, 1024)        2098176   \n",
            "                                                                 \n",
            " max_pooling2d_4 (MaxPooling  (None, 3, 3, 1024)       0         \n",
            " 2D)                                                             \n",
            "                                                                 \n",
            " flatten (Flatten)           (None, 9216)              0         \n",
            "                                                                 \n",
            " dropout (Dropout)           (None, 9216)              0         \n",
            "                                                                 \n",
            " dense (Dense)               (None, 512)               4719104   \n",
            "                                                                 \n",
            " dense_1 (Dense)             (None, 4)                 2052      \n",
            "                                                                 \n",
            "=================================================================\n",
            "Total params: 7,508,676\n",
            "Trainable params: 7,508,676\n",
            "Non-trainable params: 0\n",
            "_________________________________________________________________\n"
          ]
        },
        {
          "output_type": "execute_result",
          "data": {
            "text/plain": [
              "0"
            ]
          },
          "metadata": {},
          "execution_count": 9
        }
      ],
      "source": [
        "cnn_model = models.Sequential()\n",
        "cnn_model.add(layers.Conv2D(64, (2, 2), activation='relu', input_shape=(150, 150, 1)))\n",
        "cnn_model.add(layers.MaxPooling2D((2, 2)))\n",
        "cnn_model.add(layers.Conv2D(128, (2, 2), activation='relu'))\n",
        "cnn_model.add(layers.MaxPooling2D((2, 2)))\n",
        "cnn_model.add(layers.Conv2D(256, (2, 2), activation='relu'))\n",
        "cnn_model.add(layers.MaxPooling2D((2, 2)))\n",
        "cnn_model.add(layers.Conv2D(512, (2, 2), activation='relu'))\n",
        "cnn_model.add(layers.MaxPooling2D((2, 2)))\n",
        "cnn_model.add(layers.Conv2D(1024, (2, 2), activation='relu'))\n",
        "cnn_model.add(layers.MaxPooling2D((2, 2)))\n",
        "cnn_model.add(layers.Flatten())\n",
        "cnn_model.add(tf.keras.layers.Dropout(0.2))\n",
        "cnn_model.add(layers.Dense(512, activation='relu'))\n",
        "cnn_model.add(layers.Dense(4, activation=\"softmax\"))\n",
        "cnn_model.summary()\n",
        "gc.collect()"
      ]
    },
    {
      "cell_type": "code",
      "execution_count": null,
      "metadata": {
        "colab": {
          "base_uri": "https://localhost:8080/"
        },
        "id": "nx_Nq-7qO-Rb",
        "outputId": "70c22288-9f54-4314-a857-9ca12f79432d"
      },
      "outputs": [
        {
          "output_type": "stream",
          "name": "stdout",
          "text": [
            "Epoch 1/30\n",
            "16932/16932 [==============================] - ETA: 0s - loss: 0.7496 - accuracy: 0.7035\n",
            "Epoch 1: saving model to /content/gdrive/My Drive/Covid_data_merge/trained/cp.ckpt\n",
            "16932/16932 [==============================] - 2571s 152ms/step - loss: 0.7496 - accuracy: 0.7035 - val_loss: 0.5459 - val_accuracy: 0.7964\n",
            "Epoch 2/30\n",
            "16932/16932 [==============================] - ETA: 0s - loss: 0.7619 - accuracy: 0.6974\n",
            "Epoch 2: saving model to /content/gdrive/My Drive/Covid_data_merge/trained/cp.ckpt\n",
            "16932/16932 [==============================] - 2568s 152ms/step - loss: 0.7619 - accuracy: 0.6974 - val_loss: 0.5283 - val_accuracy: 0.8068\n",
            "Epoch 3/30\n",
            "16932/16932 [==============================] - ETA: 0s - loss: 0.7424 - accuracy: 0.7127\n",
            "Epoch 3: saving model to /content/gdrive/My Drive/Covid_data_merge/trained/cp.ckpt\n",
            "16932/16932 [==============================] - 2577s 152ms/step - loss: 0.7424 - accuracy: 0.7127 - val_loss: 0.5069 - val_accuracy: 0.8186\n",
            "Epoch 4/30\n",
            "16932/16932 [==============================] - ETA: 0s - loss: 0.7094 - accuracy: 0.7231\n",
            "Epoch 4: saving model to /content/gdrive/My Drive/Covid_data_merge/trained/cp.ckpt\n",
            "16932/16932 [==============================] - 2606s 154ms/step - loss: 0.7094 - accuracy: 0.7231 - val_loss: 0.9801 - val_accuracy: 0.5719\n",
            "Epoch 5/30\n",
            "16932/16932 [==============================] - ETA: 0s - loss: 0.7719 - accuracy: 0.6960\n",
            "Epoch 5: saving model to /content/gdrive/My Drive/Covid_data_merge/trained/cp.ckpt\n",
            "16932/16932 [==============================] - 2583s 153ms/step - loss: 0.7719 - accuracy: 0.6960 - val_loss: 0.6111 - val_accuracy: 0.7742\n",
            "Epoch 6/30\n",
            "16932/16932 [==============================] - ETA: 0s - loss: 0.7386 - accuracy: 0.7176\n",
            "Epoch 6: saving model to /content/gdrive/My Drive/Covid_data_merge/trained/cp.ckpt\n",
            "16932/16932 [==============================] - 2584s 153ms/step - loss: 0.7386 - accuracy: 0.7176 - val_loss: 0.7854 - val_accuracy: 0.7035\n",
            "Epoch 7/30\n",
            "16932/16932 [==============================] - ETA: 0s - loss: 0.6555 - accuracy: 0.7534\n",
            "Epoch 7: saving model to /content/gdrive/My Drive/Covid_data_merge/trained/cp.ckpt\n",
            "16932/16932 [==============================] - 2611s 154ms/step - loss: 0.6555 - accuracy: 0.7534 - val_loss: 0.5818 - val_accuracy: 0.8030\n",
            "Epoch 8/30\n",
            "16932/16932 [==============================] - ETA: 0s - loss: 0.6387 - accuracy: 0.7680\n",
            "Epoch 8: saving model to /content/gdrive/My Drive/Covid_data_merge/trained/cp.ckpt\n",
            "16932/16932 [==============================] - 2594s 153ms/step - loss: 0.6387 - accuracy: 0.7680 - val_loss: 0.5003 - val_accuracy: 0.8207\n",
            "Epoch 9/30\n",
            "16932/16932 [==============================] - ETA: 0s - loss: 0.6685 - accuracy: 0.7472\n",
            "Epoch 9: saving model to /content/gdrive/My Drive/Covid_data_merge/trained/cp.ckpt\n",
            "16932/16932 [==============================] - 2590s 153ms/step - loss: 0.6685 - accuracy: 0.7472 - val_loss: 0.6198 - val_accuracy: 0.7612\n",
            "Epoch 10/30\n",
            "16932/16932 [==============================] - ETA: 0s - loss: 0.6030 - accuracy: 0.7782\n",
            "Epoch 10: saving model to /content/gdrive/My Drive/Covid_data_merge/trained/cp.ckpt\n",
            "16932/16932 [==============================] - 2572s 152ms/step - loss: 0.6030 - accuracy: 0.7782 - val_loss: 0.4756 - val_accuracy: 0.8287\n",
            "Epoch 11/30\n",
            "16932/16932 [==============================] - ETA: 0s - loss: 0.7109 - accuracy: 0.7571\n",
            "Epoch 11: saving model to /content/gdrive/My Drive/Covid_data_merge/trained/cp.ckpt\n",
            "16932/16932 [==============================] - 2563s 151ms/step - loss: 0.7109 - accuracy: 0.7571 - val_loss: 1.1926 - val_accuracy: 0.5311\n",
            "Epoch 12/30\n",
            "16932/16932 [==============================] - ETA: 0s - loss: 0.6085 - accuracy: 0.7866\n",
            "Epoch 12: saving model to /content/gdrive/My Drive/Covid_data_merge/trained/cp.ckpt\n",
            "16932/16932 [==============================] - 2551s 151ms/step - loss: 0.6085 - accuracy: 0.7866 - val_loss: 0.5183 - val_accuracy: 0.8164\n",
            "Epoch 13/30\n",
            "16932/16932 [==============================] - ETA: 0s - loss: 0.7180 - accuracy: 0.7191\n",
            "Epoch 13: saving model to /content/gdrive/My Drive/Covid_data_merge/trained/cp.ckpt\n",
            "16932/16932 [==============================] - 2568s 152ms/step - loss: 0.7180 - accuracy: 0.7191 - val_loss: 0.5902 - val_accuracy: 0.7902\n",
            "Epoch 14/30\n",
            "16932/16932 [==============================] - ETA: 0s - loss: 0.7992 - accuracy: 0.6849\n",
            "Epoch 14: saving model to /content/gdrive/My Drive/Covid_data_merge/trained/cp.ckpt\n",
            "16932/16932 [==============================] - 2548s 150ms/step - loss: 0.7992 - accuracy: 0.6849 - val_loss: 1.0399 - val_accuracy: 0.5060\n",
            "Epoch 15/30\n",
            "16932/16932 [==============================] - ETA: 0s - loss: 0.8869 - accuracy: 0.6347\n",
            "Epoch 15: saving model to /content/gdrive/My Drive/Covid_data_merge/trained/cp.ckpt\n",
            "16932/16932 [==============================] - 2546s 150ms/step - loss: 0.8869 - accuracy: 0.6347 - val_loss: 0.7015 - val_accuracy: 0.7073\n",
            "Epoch 16/30\n",
            "16932/16932 [==============================] - ETA: 0s - loss: 0.8190 - accuracy: 0.6644\n",
            "Epoch 16: saving model to /content/gdrive/My Drive/Covid_data_merge/trained/cp.ckpt\n",
            "16932/16932 [==============================] - 2554s 151ms/step - loss: 0.8190 - accuracy: 0.6644 - val_loss: 1.0516 - val_accuracy: 0.5292\n",
            "Epoch 17/30\n",
            " 9154/16932 [===============>..............] - ETA: 18:21 - loss: 1.0594 - accuracy: 0.5196"
          ]
        }
      ],
      "source": [
        "checkpoint_path = \"/content/gdrive/My Drive/Covid_data_merge/trained/cp.ckpt\"\n",
        "checkpoint_dir = os.path.dirname(checkpoint_path)\n",
        "\n",
        "cnn_model.load_weights(checkpoint_path)\n",
        "\n",
        "cp_callback = tf.keras.callbacks.ModelCheckpoint(filepath=checkpoint_path,\n",
        "        save_weights_only=True\n",
        "        ,verbose=1)\n",
        "\n",
        "cnn_model.compile(optimizer=\"Adam\",\n",
        "              loss=tf.keras.losses.categorical_crossentropy,\n",
        "              metrics=['accuracy'])\n",
        "\n",
        "history = cnn_model.fit(data[train_index,:,:], train_label, epochs=30,batch_size = 1 , \n",
        "                    validation_data=(data[test_index,:,:], test_label),\n",
        "                    callbacks=[cp_callback])"
      ]
    },
    {
      "cell_type": "code",
      "execution_count": null,
      "metadata": {
        "id": "d0U77SZ1QFQd"
      },
      "outputs": [],
      "source": [
        "import matplotlib.pyplot as plt\n",
        "accuracy = history.history['accuracy']\n",
        "val_accuracy = history.history['val_accuracy']\n",
        "loss = history.history['loss']\n",
        "val_loss = history.history['val_loss']\n",
        "epochs = range(len(accuracy))\n",
        "plt.plot(epochs, accuracy, 'b', label='Training accuracy')\n",
        "plt.plot(epochs, val_accuracy, 'r', label='Validation accuracy')\n",
        "plt.title('Training and validation accuracy')\n",
        "plt.legend()\n",
        "plt.figure()\n",
        "plt.plot(epochs, loss, 'b', label='Training loss')\n",
        "plt.plot(epochs, val_loss, 'r', label='Validation loss')\n",
        "plt.title('Training and validation loss')\n",
        "plt.legend()\n",
        "plt.show()"
      ]
    },
    {
      "cell_type": "code",
      "execution_count": null,
      "metadata": {
        "id": "XxIHRIjBT22G"
      },
      "outputs": [],
      "source": [
        "def show_grey(x):\n",
        "    y = np.zeros((299,299,3))\n",
        "    y[:,:,0] = x\n",
        "    y[:,:,1] = x\n",
        "    y[:,:,2] = x\n",
        "    return y.astype(int)\n",
        "import matplotlib.pyplot as plt\n",
        "plt.imshow(show_grey(data[0,:,:]))\n",
        "print(os.listdir(\"/content/gdrive/My Drive/Covid_data/\" + labels[0])[0])"
      ]
    }
  ],
  "metadata": {
    "accelerator": "TPU",
    "colab": {
      "collapsed_sections": [],
      "name": "tensorflow_covid.ipynb",
      "provenance": [],
      "authorship_tag": "ABX9TyOwJUO5RRAod9AEJYe9Oqul",
      "include_colab_link": true
    },
    "gpuClass": "standard",
    "kernelspec": {
      "display_name": "Python 3",
      "name": "python3"
    },
    "language_info": {
      "name": "python"
    }
  },
  "nbformat": 4,
  "nbformat_minor": 0
}