{
  "nbformat": 4,
  "nbformat_minor": 0,
  "metadata": {
    "colab": {
      "name": "tensorflow_Coviddata_splitted",
      "provenance": [],
      "authorship_tag": "ABX9TyPCNg9lTWJa0W1SsPsMEuty",
      "include_colab_link": true
    },
    "kernelspec": {
      "name": "python3",
      "display_name": "Python 3"
    },
    "language_info": {
      "name": "python"
    },
    "accelerator": "GPU",
    "gpuClass": "standard"
  },
  "cells": [
    {
      "cell_type": "markdown",
      "metadata": {
        "id": "view-in-github",
        "colab_type": "text"
      },
      "source": [
        "<a href=\"https://colab.research.google.com/github/yang1325/AI_selfpraticenote/blob/main/tensorflow_covid/tensorflow_Coviddata_splitted.ipynb\" target=\"_parent\"><img src=\"https://colab.research.google.com/assets/colab-badge.svg\" alt=\"Open In Colab\"/></a>"
      ]
    },
    {
      "cell_type": "code",
      "execution_count": 7,
      "metadata": {
        "id": "8q1wLCXeGAyk"
      },
      "outputs": [],
      "source": [
        "#載入所需模組\n",
        "import cv2\n",
        "import tensorflow as tf\n",
        "from tensorflow.keras import layers, models\n",
        "from tensorflow import keras\n",
        "import numpy as np\n",
        "import pandas as pd\n",
        "from numpy import load\n",
        "from numpy import save\n",
        "import random\n",
        "import os\n",
        "import gc"
      ]
    },
    {
      "cell_type": "code",
      "source": [
        "from google.colab import drive\n",
        "drive.mount(\"/content/gdrive\")"
      ],
      "metadata": {
        "colab": {
          "base_uri": "https://localhost:8080/"
        },
        "id": "wtrxpqqjHs9D",
        "outputId": "e72176d8-1de0-4231-948f-278adc4667d8"
      },
      "execution_count": 8,
      "outputs": [
        {
          "output_type": "stream",
          "name": "stdout",
          "text": [
            "Drive already mounted at /content/gdrive; to attempt to forcibly remount, call drive.mount(\"/content/gdrive\", force_remount=True).\n"
          ]
        }
      ]
    },
    {
      "cell_type": "code",
      "source": [
        "cnn_model = models.Sequential()\n",
        "cnn_model.add(layers.Conv2D(128, (3, 3), activation='relu', input_shape=(299,299, 1)))\n",
        "cnn_model.add(layers.MaxPooling2D((3, 3)))\n",
        "cnn_model.add(layers.Conv2D(256, (3, 3), activation='relu'))\n",
        "cnn_model.add(layers.MaxPooling2D((3, 3)))\n",
        "cnn_model.add(layers.Conv2D(512, (3, 3), activation='relu'))\n",
        "cnn_model.add(layers.MaxPooling2D((3, 3)))\n",
        "cnn_model.add(layers.Conv2D(1024, (3, 3), activation='relu'))\n",
        "cnn_model.add(layers.MaxPooling2D((2, 2)))\n",
        "#cnn_model.add(layers.Conv2D(1024, (3, 3), activation='relu'))\n",
        "#cnn_model.add(layers.MaxPooling2D((3, 3)))\n",
        "cnn_model.add(layers.Flatten())\n",
        "cnn_model.add(tf.keras.layers.Dropout(0.3))\n",
        "cnn_model.add(layers.Dense(512, activation='relu'))\n",
        "cnn_model.add(layers.Dense(4, activation=\"softmax\"))\n",
        "cnn_model.summary()\n",
        "gc.collect()"
      ],
      "metadata": {
        "colab": {
          "base_uri": "https://localhost:8080/"
        },
        "id": "tfcPiRt9HvbB",
        "outputId": "16fbdb0b-66f5-4509-80cc-076e2250bbf4"
      },
      "execution_count": 10,
      "outputs": [
        {
          "output_type": "stream",
          "name": "stdout",
          "text": [
            "Model: \"sequential_4\"\n",
            "_________________________________________________________________\n",
            " Layer (type)                Output Shape              Param #   \n",
            "=================================================================\n",
            " conv2d_16 (Conv2D)          (None, 297, 297, 128)     1280      \n",
            "                                                                 \n",
            " max_pooling2d_16 (MaxPoolin  (None, 99, 99, 128)      0         \n",
            " g2D)                                                            \n",
            "                                                                 \n",
            " conv2d_17 (Conv2D)          (None, 97, 97, 256)       295168    \n",
            "                                                                 \n",
            " max_pooling2d_17 (MaxPoolin  (None, 32, 32, 256)      0         \n",
            " g2D)                                                            \n",
            "                                                                 \n",
            " conv2d_18 (Conv2D)          (None, 30, 30, 512)       1180160   \n",
            "                                                                 \n",
            " max_pooling2d_18 (MaxPoolin  (None, 10, 10, 512)      0         \n",
            " g2D)                                                            \n",
            "                                                                 \n",
            " conv2d_19 (Conv2D)          (None, 8, 8, 1024)        4719616   \n",
            "                                                                 \n",
            " max_pooling2d_19 (MaxPoolin  (None, 4, 4, 1024)       0         \n",
            " g2D)                                                            \n",
            "                                                                 \n",
            " flatten_4 (Flatten)         (None, 16384)             0         \n",
            "                                                                 \n",
            " dropout_4 (Dropout)         (None, 16384)             0         \n",
            "                                                                 \n",
            " dense_8 (Dense)             (None, 512)               8389120   \n",
            "                                                                 \n",
            " dense_9 (Dense)             (None, 4)                 2052      \n",
            "                                                                 \n",
            "=================================================================\n",
            "Total params: 14,587,396\n",
            "Trainable params: 14,587,396\n",
            "Non-trainable params: 0\n",
            "_________________________________________________________________\n"
          ]
        },
        {
          "output_type": "execute_result",
          "data": {
            "text/plain": [
              "1290"
            ]
          },
          "metadata": {},
          "execution_count": 10
        }
      ]
    },
    {
      "cell_type": "code",
      "source": [
        "path = \"/content/gdrive/My Drive/splited_data\"\n",
        "\n",
        "cnn_model.compile(optimizer=\"Adam\",\n",
        "              loss=tf.keras.losses.categorical_crossentropy,\n",
        "              metrics=['accuracy'])\n",
        "\n",
        "for i in range(100):\n",
        "  for j in range(10):\n",
        "    print(\"now is %d,%d\"%(i,j))\n",
        "    data = load(path + \"/%d\"%(j) + \".npy\")\n",
        "    label = load(path + \"/%dy\"%(j) + \".npy\")\n",
        "    if(j==9):\n",
        "      print(cnn_model.evaluate(data, label, verbose=2))\n",
        "    else:\n",
        "      cnn_model.fit(data, label, epochs=1,batch_size = 1)\n",
        "    del data\n",
        "    del label\n",
        "    gc.collect()"
      ],
      "metadata": {
        "colab": {
          "base_uri": "https://localhost:8080/"
        },
        "id": "Zv7mjBA_H7cW",
        "outputId": "e68077c5-f805-4181-e706-ab1113f74969"
      },
      "execution_count": null,
      "outputs": [
        {
          "output_type": "stream",
          "name": "stdout",
          "text": [
            "now is 0,0\n",
            "2116/2116 [==============================] - 36s 16ms/step - loss: 1.1672 - accuracy: 0.4915\n",
            "now is 0,1\n",
            "2116/2116 [==============================] - 35s 16ms/step - loss: 0.9630 - accuracy: 0.6054\n",
            "now is 0,2\n",
            "2116/2116 [==============================] - 35s 17ms/step - loss: 0.7817 - accuracy: 0.6810\n",
            "now is 0,3\n",
            "2116/2116 [==============================] - 35s 17ms/step - loss: 0.7259 - accuracy: 0.7141\n",
            "now is 0,4\n",
            "2116/2116 [==============================] - 35s 16ms/step - loss: 0.6606 - accuracy: 0.7429\n",
            "now is 0,5\n",
            "2116/2116 [==============================] - 35s 16ms/step - loss: 0.5989 - accuracy: 0.7491\n",
            "now is 0,6\n",
            "2116/2116 [==============================] - 35s 17ms/step - loss: 0.5911 - accuracy: 0.7736\n",
            "now is 0,7\n",
            "2116/2116 [==============================] - 35s 17ms/step - loss: 0.5848 - accuracy: 0.7628\n",
            "now is 0,8\n",
            "2116/2116 [==============================] - 35s 16ms/step - loss: 0.5491 - accuracy: 0.7807\n",
            "now is 0,9\n",
            "67/67 - 8s - loss: 0.5174 - accuracy: 0.8010 - 8s/epoch - 120ms/step\n",
            "[0.5174150466918945, 0.8010372519493103]\n",
            "now is 1,0\n",
            "2116/2116 [==============================] - 35s 17ms/step - loss: 0.5211 - accuracy: 0.7954\n",
            "now is 1,1\n",
            "2116/2116 [==============================] - 34s 16ms/step - loss: 0.5636 - accuracy: 0.7873\n",
            "now is 1,2\n",
            "2116/2116 [==============================] - 34s 16ms/step - loss: 0.5440 - accuracy: 0.7850\n",
            "now is 1,3\n",
            "2116/2116 [==============================] - 35s 16ms/step - loss: 0.5227 - accuracy: 0.8048\n",
            "now is 1,4\n",
            "2116/2116 [==============================] - 35s 16ms/step - loss: 0.5034 - accuracy: 0.8058\n",
            "now is 1,5\n",
            "2116/2116 [==============================] - 35s 16ms/step - loss: 0.4758 - accuracy: 0.8147\n",
            "now is 1,6\n",
            "2116/2116 [==============================] - 34s 16ms/step - loss: 0.4861 - accuracy: 0.8218\n",
            "now is 1,7\n",
            "2116/2116 [==============================] - 34s 16ms/step - loss: 0.4863 - accuracy: 0.8166\n",
            "now is 1,8\n",
            "2116/2116 [==============================] - 35s 16ms/step - loss: 0.4621 - accuracy: 0.8280\n",
            "now is 1,9\n",
            "67/67 - 6s - loss: 0.4368 - accuracy: 0.8463 - 6s/epoch - 92ms/step\n",
            "[0.43678849935531616, 0.8462989330291748]\n",
            "now is 2,0\n",
            "2116/2116 [==============================] - 35s 16ms/step - loss: 0.4573 - accuracy: 0.8256\n",
            "now is 2,1\n",
            "2116/2116 [==============================] - 35s 16ms/step - loss: 0.4838 - accuracy: 0.8204\n",
            "now is 2,2\n",
            "2116/2116 [==============================] - 34s 16ms/step - loss: 0.5012 - accuracy: 0.8124\n",
            "now is 2,3\n",
            "2116/2116 [==============================] - 34s 16ms/step - loss: 0.4784 - accuracy: 0.8209\n",
            "now is 2,4\n",
            "2116/2116 [==============================] - 35s 16ms/step - loss: 0.4643 - accuracy: 0.8327\n",
            "now is 2,5\n",
            "2116/2116 [==============================] - 35s 17ms/step - loss: 0.4365 - accuracy: 0.8336\n",
            "now is 2,6\n",
            "2116/2116 [==============================] - 35s 16ms/step - loss: 0.4388 - accuracy: 0.8393\n",
            "now is 2,7\n",
            "2116/2116 [==============================] - 35s 16ms/step - loss: 0.4387 - accuracy: 0.8233\n",
            "now is 2,8\n",
            "2116/2116 [==============================] - 34s 16ms/step - loss: 0.4407 - accuracy: 0.8327\n",
            "now is 2,9\n",
            "67/67 - 6s - loss: 0.4224 - accuracy: 0.8454 - 6s/epoch - 92ms/step\n",
            "[0.4223867952823639, 0.8453559875488281]\n",
            "now is 3,0\n",
            "2116/2116 [==============================] - 35s 16ms/step - loss: 0.4256 - accuracy: 0.8379\n",
            "now is 3,1\n",
            "2116/2116 [==============================] - 35s 17ms/step - loss: 0.4447 - accuracy: 0.8289\n",
            "now is 3,2\n",
            "2116/2116 [==============================] - 35s 16ms/step - loss: 0.4618 - accuracy: 0.8284\n",
            "now is 3,3\n",
            "2116/2116 [==============================] - 34s 16ms/step - loss: 0.4498 - accuracy: 0.8459\n",
            "now is 3,4\n",
            "2116/2116 [==============================] - 35s 16ms/step - loss: 0.4527 - accuracy: 0.8336\n",
            "now is 3,5\n",
            "2116/2116 [==============================] - 35s 16ms/step - loss: 0.4138 - accuracy: 0.8492\n",
            "now is 3,6\n",
            "2116/2116 [==============================] - 35s 17ms/step - loss: 0.4022 - accuracy: 0.8474\n",
            "now is 3,7\n",
            "2116/2116 [==============================] - 34s 16ms/step - loss: 0.4064 - accuracy: 0.8436\n",
            "now is 3,8\n",
            "2116/2116 [==============================] - 35s 16ms/step - loss: 0.4247 - accuracy: 0.8412\n",
            "now is 3,9\n",
            "67/67 - 6s - loss: 0.3971 - accuracy: 0.8586 - 6s/epoch - 93ms/step\n",
            "[0.39709529280662537, 0.8585572838783264]\n",
            "now is 4,0\n",
            "2116/2116 [==============================] - 35s 16ms/step - loss: 0.4026 - accuracy: 0.8507\n",
            "now is 4,1\n",
            "2116/2116 [==============================] - 35s 16ms/step - loss: 0.4063 - accuracy: 0.8568\n",
            "now is 4,2\n"
          ]
        }
      ]
    },
    {
      "cell_type": "code",
      "source": [
        "#data\n",
        "print(cnn_model.evaluate(data, train_label, verbose=2))"
      ],
      "metadata": {
        "id": "gyKA0qq6y_IM",
        "outputId": "e000e296-6c76-45ed-fc61-ed29a8bdc7fa",
        "colab": {
          "base_uri": "https://localhost:8080/"
        }
      },
      "execution_count": 14,
      "outputs": [
        {
          "output_type": "stream",
          "name": "stdout",
          "text": [
            "67/67 - 6s - loss: 1.1753 - accuracy: 0.4948 - 6s/epoch - 92ms/step\n",
            "[1.17534601688385, 0.49480152130126953]\n"
          ]
        }
      ]
    },
    {
      "cell_type": "code",
      "source": [
        "import matplotlib.pyplot as plt\n",
        "accuracy = history.history['accuracy']\n",
        "val_accuracy = history.history['val_accuracy']\n",
        "loss = history.history['loss']\n",
        "val_loss = history.history['val_loss']\n",
        "epochs = range(len(accuracy))\n",
        "plt.plot(epochs, accuracy, 'b', label='Training accuracy')\n",
        "plt.plot(epochs, val_accuracy, 'r', label='Validation accuracy')\n",
        "plt.title('Training and validation accuracy')\n",
        "plt.legend()\n",
        "plt.figure()\n",
        "plt.plot(epochs, loss, 'b', label='Training loss')\n",
        "plt.plot(epochs, val_loss, 'r', label='Validation loss')\n",
        "plt.title('Training and validation loss')\n",
        "plt.legend()\n",
        "plt.show()"
      ],
      "metadata": {
        "id": "M8V0W2MAskzC"
      },
      "execution_count": null,
      "outputs": []
    }
  ]
}