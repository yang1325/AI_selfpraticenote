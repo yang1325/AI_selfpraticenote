{
 "cells": [
  {
   "cell_type": "code",
   "execution_count": 36,
   "id": "scenic-raise",
   "metadata": {},
   "outputs": [],
   "source": [
    "import os\n",
    "import numpy as np\n",
    "import cv2\n",
    "from numpy import load\n",
    "from numpy import save\n",
    "import gc "
   ]
  },
  {
   "cell_type": "code",
   "execution_count": 37,
   "id": "differential-installation",
   "metadata": {},
   "outputs": [],
   "source": [
    "#設定資料路徑\n",
    "path = \"D:\\\\tensorflow\\Covid_data\"\n",
    "os.chdir(path)"
   ]
  },
  {
   "cell_type": "code",
   "execution_count": 38,
   "id": "systematic-deficit",
   "metadata": {},
   "outputs": [
    {
     "data": {
      "text/plain": [
       "['COVID', 'Lung_Opacity', 'Normal', 'Viral Pneumonia']"
      ]
     },
     "execution_count": 38,
     "metadata": {},
     "output_type": "execute_result"
    }
   ],
   "source": [
    "labels = os.listdir(path)\n",
    "labels"
   ]
  },
  {
   "cell_type": "code",
   "execution_count": 39,
   "id": "minor-renaissance",
   "metadata": {},
   "outputs": [],
   "source": [
    "#定義合併像素的函數.\n",
    "def merge(data,x,y):\n",
    "    n = np.shape(data)[0]\n",
    "    ylength = np.shape(data)[1]\n",
    "    xlength = np.shape(data)[2]\n",
    "    gc.collect()\n",
    "    if(x == 1 and y == 1):\n",
    "        return data\n",
    "    new = np.zeros((n,ylength + y - 1,xlength + x - 1))\n",
    "    for i in range(0,y):\n",
    "        for j in range(0,x):\n",
    "            new[:,i:ylength + i,j:xlength + j] += data\n",
    "    new = new/(x*y)\n",
    "    gc.collect()\n",
    "    normal = np.zeros((n,int((ylength + y - 1)/y),int((xlength + x - 1)/x)))\n",
    "    normal[:,:int(ylength/y),:int(xlength/x)] = new[:,y - 1:ylength:y,x - 1:xlength:x]\n",
    "    if(ylength%y != 0):\n",
    "        normal[:,np.shape(normal)[1] - 1,:int(xlength/x)] = new[:,ylength + y - 1 - ylength%y,x - 1:xlength:x]/(ylength%y)*y\n",
    "    if(xlength%x != 0):\n",
    "        normal[:,:int(ylength/y),np.shape(normal)[2] - 1] = new[:,y - 1:ylength:y,xlength + x - 1 - xlength%x]/(xlength%x)*x\n",
    "    if((ylength%y != 0) and ((xlength%x != 0))):\n",
    "        normal[:,np.shape(normal)[1]-1,np.shape(normal)[2]-1] = new[:,ylength + y - 1 - ylength%y,xlength + x - 1 - xlength%x]/(ylength%y)/(xlength%x)*y*x\n",
    "    return normal"
   ]
  },
  {
   "cell_type": "code",
   "execution_count": 40,
   "id": "magnetic-elder",
   "metadata": {},
   "outputs": [
    {
     "name": "stdout",
     "output_type": "stream",
     "text": [
      "(3616, 150, 150)\n",
      "(6012, 150, 150)\n",
      "(10192, 150, 150)\n",
      "(1345, 150, 150)\n"
     ]
    }
   ],
   "source": [
    "number = []\n",
    "mpath = \"D:\\\\tensorflow\\merge_pic\"\n",
    "for i in range(len(labels)):\n",
    "    label_path = path + \"/\" + labels[i]\n",
    "    number += [len(os.listdir(label_path))]\n",
    "for i in range(len(labels)):\n",
    "    label_path = path + \"/\" + labels[i]\n",
    "    os.chdir(label_path)\n",
    "    pic_list = os.listdir(label_path)\n",
    "    data = np.zeros((number[i],299,299),dtype = int)\n",
    "    for j in range(len(pic_list)):\n",
    "        data[j,:,:] = cv2.imread(pic_list[j], cv2.IMREAD_GRAYSCALE)\n",
    "    new_data = merge(data,2,2)\n",
    "    print(np.shape(new_data))\n",
    "    new_data = new_data\n",
    "    del data\n",
    "    gc.collect()\n",
    "    new_data = new_data.astype(int)\n",
    "    gc.collect()\n",
    "    os.chdir(mpath)\n",
    "    os.mkdir(labels[i])\n",
    "    picpath = mpath + \"\\\\\" + labels[i]\n",
    "    os.chdir(picpath)\n",
    "    for j in range(number[i]):\n",
    "        cv2.imwrite(\"%d.png\"%(j), new_data[j,:,:])\n",
    "    del new_data\n",
    "    gc.collect()"
   ]
  },
  {
   "cell_type": "code",
   "execution_count": null,
   "id": "metric-madagascar",
   "metadata": {},
   "outputs": [],
   "source": []
  }
 ],
 "metadata": {
  "kernelspec": {
   "display_name": "Python 3",
   "language": "python",
   "name": "python3"
  },
  "language_info": {
   "codemirror_mode": {
    "name": "ipython",
    "version": 3
   },
   "file_extension": ".py",
   "mimetype": "text/x-python",
   "name": "python",
   "nbconvert_exporter": "python",
   "pygments_lexer": "ipython3",
   "version": "3.9.2"
  }
 },
 "nbformat": 4,
 "nbformat_minor": 5
}
